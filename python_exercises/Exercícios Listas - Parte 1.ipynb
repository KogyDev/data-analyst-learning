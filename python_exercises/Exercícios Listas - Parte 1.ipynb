{
 "cells": [
  {
   "cell_type": "markdown",
   "metadata": {},
   "source": [
    "# Exercícios\n",
    "\n",
    "## 1. Faturamento do Melhor e do Pior Mês do Ano\n",
    "\n",
    "Qual foi o valor de vendas do melhor mês do Ano?\n",
    "E valor do pior mês do ano?"
   ]
  },
  {
   "cell_type": "code",
   "execution_count": 1,
   "metadata": {},
   "outputs": [],
   "source": [
    "meses = ['jan', 'fev', 'mar', 'abr', 'mai', 'jun', 'jul', 'ago', 'set', 'out', 'nov', 'dez']\n",
    "vendas_1sem = [25000, 29000, 22200, 17750, 15870, 19900]\n",
    "vendas_2sem = [19850, 20120, 17540, 15555, 49051, 9650]"
   ]
  },
  {
   "cell_type": "markdown",
   "metadata": {},
   "source": [
    "## 2. Continuação\n",
    "\n",
    "Agora relacione as duas listas para printar 'O melhor mês do ano foi {} com {} vendas' e o mesmo para o pior mês do ano.\n",
    "\n",
    "Calcule também o faturamento total do Ano e quanto que o melhor mês representou do faturamento total.\n",
    "\n",
    "Obs: Para o faturamento total, pode usar a função sum(lista) que soma todos os itens de uma lista"
   ]
  },
  {
   "cell_type": "code",
   "execution_count": null,
   "metadata": {},
   "outputs": [],
   "source": [
    "# Lista com os valores de vendas mensais (em ordem dos meses do ano)\n",
    "faturamento_mensal = [12000, 15000, 13000, 11000, 18000, 20000, 22000, 21000, 17000, 14000, 16000, 19000]\n",
    "\n",
    "# Lista com os nomes dos meses\n",
    "meses = [\"Janeiro\", \"Fevereiro\", \"Março\", \"Abril\", \"Maio\", \"Junho\", \"Julho\", \"Agosto\", \"Setembro\", \"Outubro\", \"Novembro\", \"Dezembro\"]\n",
    "\n",
    "# Calculando o melhor e o pior mês\n",
    "melhor_mes_valor = max(faturamento_mensal)\n",
    "pior_mes_valor = min(faturamento_mensal)\n",
    "\n",
    "# Identificando os índices dos melhores e piores meses\n",
    "melhor_mes_indice = faturamento_mensal.index(melhor_mes_valor)\n",
    "pior_mes_indice = faturamento_mensal.index(pior_mes_valor)\n",
    "\n",
    "# Faturamento total do ano\n",
    "faturamento_total = sum(faturamento_mensal)\n",
    "\n",
    "# Porcentagem do melhor mês em relação ao total\n",
    "percentual_melhor_mes = (melhor_mes_valor / faturamento_total) * 100\n",
    "\n",
    "# Exibindo os resultados\n",
    "print(f\"O melhor mês do ano foi {meses[melhor_mes_indice]} com R$ {melhor_mes_valor} em vendas.\")\n",
    "print(f\"O pior mês do ano foi {meses[pior_mes_indice]} com R$ {pior_mes_valor} em vendas.\")\n",
    "print(f\"Faturamento total do ano: R$ {faturamento_total}\")\n",
    "print(f\"O melhor mês representou {percentual_melhor_mes:.2f}% do faturamento total.\")\n"
   ]
  },
  {
   "cell_type": "markdown",
   "metadata": {},
   "source": [
    "## 3. Crie uma lista com o top 3 valores de vendas do ano (sem fazer \"no olho\")\n",
    "\n",
    "Dica: o método remove retira um item da lista."
   ]
  },
  {
   "cell_type": "code",
   "execution_count": null,
   "metadata": {},
   "outputs": [],
   "source": [
    "# Lista com os valores de vendas mensais\n",
    "faturamento_mensal = [12000, 15000, 13000, 11000, 18000, 20000, 22000, 21000, 17000, 14000, 16000, 19000]\n",
    "\n",
    "# Encontrar os 3 maiores valores usando sorted()\n",
    "top_3_vendas = sorted(faturamento_mensal, reverse=True)[:3]\n",
    "\n",
    "# Exibir os resultados\n",
    "print(\"Os top 3 valores de vendas do ano foram:\", top_3_vendas)\n"
   ]
  }
 ],
 "metadata": {
  "kernelspec": {
   "display_name": "Python 3",
   "language": "python",
   "name": "python3"
  },
  "language_info": {
   "codemirror_mode": {
    "name": "ipython",
    "version": 3
   },
   "file_extension": ".py",
   "mimetype": "text/x-python",
   "name": "python",
   "nbconvert_exporter": "python",
   "pygments_lexer": "ipython3",
   "version": "3.8.3"
  }
 },
 "nbformat": 4,
 "nbformat_minor": 4
}
